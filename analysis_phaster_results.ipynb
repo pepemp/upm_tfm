{
 "cells": [
  {
   "cell_type": "markdown",
   "metadata": {},
   "source": [
    "## Analysis of PHASTER results\n",
    "\n",
    "Sergio Álvarez-Pérez, 2020"
   ]
  },
  {
   "cell_type": "code",
   "execution_count": null,
   "metadata": {},
   "outputs": [],
   "source": [
    "import os\n",
    "import re\n",
    "import pandas as pd\n",
    "import numpy as np"
   ]
  },
  {
   "cell_type": "code",
   "execution_count": null,
   "metadata": {},
   "outputs": [],
   "source": [
    "if not os.path.exists('/home/sergio/TFM1/reports/'): # include here your preferred path\n",
    "    os.mkdir('/home/sergio/TFM1/reports/')\n",
    "if not os.path.exists('/home/sergio/TFM1/reports/phaster/'):\n",
    "    os.mkdir('/home/sergio/TFM1/reports/phaster/')"
   ]
  },
  {
   "cell_type": "code",
   "execution_count": null,
   "metadata": {
    "scrolled": true
   },
   "outputs": [],
   "source": [
    "path = '/home/sergio/TFM1/phaster/' # path to the folder containing the outputs of PHASTER (lists of putative prophage regions)\n",
    "\n",
    "mydict = {}\n",
    "\n",
    "for foldername in os.listdir(path):\n",
    "    for file in os.listdir(path + '/' + foldername):\n",
    "        if file == \"summary.txt\":\n",
    "            genome = foldername\n",
    "            with open(os.path.join(path,foldername,file)) as myFile:\n",
    "                for num, line in enumerate(myFile, 1):\n",
    "                    if num >= 35:\n",
    "                        record = re.split(\" +\", line)\n",
    "                        region = record[1]\n",
    "                        region_length = record[2]\n",
    "                        completeness = record[3]\n",
    "                        keyword = record[4]\n",
    "                        position = record[5]\n",
    "                        tRNA_num = record[6]\n",
    "                        total_protein_num = record[7]\n",
    "                        phage_hit_protein_num = record[8]\n",
    "                        hypo_protein_num = record[9]\n",
    "                        phage_hypo_protein_percentage = record[10]\n",
    "                        bact_protein_num = record[11]\n",
    "                        att_site_showup = record[12]\n",
    "                        phage_species_num = record[13]\n",
    "                        most_common_phage_name = record[14]\n",
    "                        most_common_phage_num = record[15]\n",
    "                        most_common_phage_percentage = record[16]\n",
    "                        GC_percentage = record[17]\n",
    "                    \n",
    "                        mydict[str(genome+'_REGION_'+region)] = {\n",
    "                                'REGION_LENGTH':region_length,\n",
    "                                'COMPLETENESS(score)':completeness,\n",
    "                                'SPECIFIC_KEYWORD':keyword,\n",
    "                                'REGION_POSITION':position,\n",
    "                                'TRNA_NUM':tRNA_num,\n",
    "                                'TOTAL_PROTEIN_NUM':total_protein_num,\n",
    "                                'PHAGE_HIT_PROTEIN_NUM':phage_hit_protein_num,\n",
    "                                'HYPOTHETICAL_PROTEIN_NUM':hypo_protein_num,\n",
    "                                'PHAGE+HYPO_PROTEIN_PERCENTAGE':phage_hypo_protein_percentage,\n",
    "                                'BACTERIAL_PROTEIN_NUM':bact_protein_num,\n",
    "                                'ATT_SITE_SHOWUP':att_site_showup,\n",
    "                                'PHAGE_SPECIES_NUM':phage_species_num,\n",
    "                                'MOST_COMMON_PHAGE_NAME(hit_genes_count)':most_common_phage_name,\n",
    "                                'FIRST_MOST_COMMON_PHAGE_NUM':most_common_phage_num,\n",
    "                                'FIRST_MOST_COMMON_PHAGE_PERCENTAGE':most_common_phage_percentage,\n",
    "                                'GC_PERCENTAGE':GC_percentage\n",
    "                                }\n",
    "            myFile.close()\n"
   ]
  },
  {
   "cell_type": "code",
   "execution_count": null,
   "metadata": {},
   "outputs": [],
   "source": [
    "# To generate the list of putative prophage regions found in all Rosenbergiella genomes\n",
    "path='/home/sergio/TFM1/reports/phaster/'\n",
    "df = pd.DataFrame.from_dict(mydict).T\n",
    "pd.DataFrame.to_csv(df, path_or_buf = os.path.join(path,'regions_per_species.tsv'), sep = \"\\t\")\n",
    "df"
   ]
  },
  {
   "cell_type": "code",
   "execution_count": null,
   "metadata": {},
   "outputs": [],
   "source": [
    "path = '/home/sergio/TFM1/phaster/' # path to the folder containing the outputs of PHASTER \n",
    "\n",
    "mydict2 = {}\n",
    "\n",
    "for foldername in os.listdir(path):\n",
    "    for file in os.listdir(path + '/' + foldername):\n",
    "        if file == \"detail.txt\":\n",
    "            genome = foldername\n",
    "            with open(os.path.join(path,foldername,file)) as myFile:\n",
    "                for num, line in enumerate(myFile, 1):\n",
    "                    if num >=6:\n",
    "                        if re.match('#### .* ####', line):\n",
    "                            region = re.match('#### (region [0-9]+),.+', line).groups()[0]\n",
    "                            n = 0\n",
    "                        elif re.match('[0-9]+\\.\\.[0-9]+', line) or re.match('complement.+', line):\n",
    "                            n += 1\n",
    "                            record = re.split('  +', line)\n",
    "                            position = record[0]\n",
    "                            blast_hit = record[1]\n",
    "                            evalue = record[2]\n",
    "                            sequence = record[3].strip('\\n')\n",
    "                            mydict2[genome + '_' + region + '_' + str(n)] = {\n",
    "                                    'CDS position':position,\n",
    "                                    'Blast hit':blast_hit,\n",
    "                                    'E-value':evalue,\n",
    "                                    'Sequence':sequence\n",
    "                                    }\n",
    "                            \n",
    "            myFile.close()\n"
   ]
  },
  {
   "cell_type": "code",
   "execution_count": null,
   "metadata": {},
   "outputs": [],
   "source": [
    "# To generate the list of CDS found in all putative prophage regions of all Rosenbergiella genomes\n",
    "path='/home/sergio/TFM1/reports/phaster/'\n",
    "df2 = pd.DataFrame.from_dict(mydict2).T\n",
    "pd.DataFrame.to_csv(df2, path_or_buf = os.path.join(path,'cds_per_genome_and_region.tsv'), sep = \"\\t\")\n",
    "df2"
   ]
  }
 ],
 "metadata": {
  "kernelspec": {
   "display_name": "Python 3",
   "language": "python",
   "name": "python3"
  },
  "language_info": {
   "codemirror_mode": {
    "name": "ipython",
    "version": 3
   },
   "file_extension": ".py",
   "mimetype": "text/x-python",
   "name": "python",
   "nbconvert_exporter": "python",
   "pygments_lexer": "ipython3",
   "version": "3.7.7"
  }
 },
 "nbformat": 4,
 "nbformat_minor": 2
}
