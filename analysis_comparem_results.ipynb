{
 "cells": [
  {
   "cell_type": "markdown",
   "metadata": {},
   "source": [
    "## Analysis of CompareM results: generation of AAI and OF heatmaps for *Rosenbergiella* spp.\n",
    "\n",
    "Sergio Álvarez-Pérez, 2020"
   ]
  },
  {
   "cell_type": "code",
   "execution_count": null,
   "metadata": {},
   "outputs": [],
   "source": [
    "import os\n",
    "import re\n",
    "import pandas as pd\n",
    "import matplotlib.pyplot as plt\n",
    "from scipy import stats\n",
    "import numpy as np\n",
    "import seaborn as sns"
   ]
  },
  {
   "cell_type": "code",
   "execution_count": null,
   "metadata": {},
   "outputs": [],
   "source": [
    "if not os.path.exists('/home/sergio/TFM1/reports/'): # include here your preferred path\n",
    "    os.mkdir('/home/sergio/TFM1/reports/')\n",
    "\n",
    "if not os.path.exists('/home/sergio/TFM1/reports/comparem/'):\n",
    "    os.mkdir('/home/sergio/TFM1/reports/comparem/')"
   ]
  },
  {
   "cell_type": "code",
   "execution_count": null,
   "metadata": {},
   "outputs": [],
   "source": [
    "path = '/home/sergio/TFM1/comparem/' # path to the folder containing the outputs of CompareM\n",
    "\n",
    "Rbg = 'Rosenbergiella'\n",
    "\n",
    "mylist_Rbg = []\n",
    "\n",
    "for foldername in os.listdir(path):\n",
    "    if os.path.isdir(os.path.join(path, foldername)):\n",
    "        for filename in os.listdir(os.path.join(path, foldername)):\n",
    "               if filename == 'aai_summary.tsv':\n",
    "                    with open(os.path.join(path, foldername, filename)) as f:\n",
    "                        next(f)\n",
    "                        for line in f:\n",
    "                            genomeA, genes_in_A, genomeB, genes_in_B, orthologous_genes, mean_AAI, std_AAI, OF = line.split(\"\\t\")\n",
    "                            data = [genomeA, genomeB, mean_AAI, OF]\n",
    "                            \n",
    "                            genusA = re.match(\"([A-Z]*[a-z]*).*\", genomeA).groups()[0]\n",
    "                            genusB = re.match(\"([A-Z]*[a-z]*).*\", genomeB).groups()[0]\n",
    "                            \n",
    "                            if genusA == Rbg and genusB == Rbg:\n",
    "                                data_Rbg = [genomeA, genomeB, mean_AAI, OF]\n",
    "                                mylist_Rbg.append(data_Rbg)"
   ]
  },
  {
   "cell_type": "code",
   "execution_count": null,
   "metadata": {},
   "outputs": [],
   "source": [
    "genome_names_Rbg = []\n",
    "for element in mylist_Rbg:\n",
    "    genome_names_Rbg.append(element[0])\n",
    "    genome_names_Rbg.append(element[1])\n",
    "\n",
    "genome_names_Rbg = list(set(genome_names_Rbg))"
   ]
  },
  {
   "cell_type": "code",
   "execution_count": null,
   "metadata": {},
   "outputs": [],
   "source": [
    "aai_Rbg = pd.DataFrame(columns = genome_names_Rbg, index = genome_names_Rbg)\n",
    "for element in mylist_Rbg:\n",
    "    aai_Rbg[element[0]][element[1]] = np.float64(element[2])\n",
    "    aai_Rbg[element[1]][element[0]] = np.float64(element[2])\n",
    "for i in aai_Rbg.index:\n",
    "    aai_Rbg.loc[i, i] = np.int64(100)"
   ]
  },
  {
   "cell_type": "code",
   "execution_count": null,
   "metadata": {},
   "outputs": [],
   "source": [
    "# To modify one of the genome names (to make it shorter) and reorder columns and rows by alphabetical order\n",
    "aai_Rbg = aai_Rbg.rename(columns={'Rosenbergiella_nectarea_IMG-taxon_2651870171_annotated_assembly': 'Rosenbergiella_nectarea_8N4'},\n",
    "               index={'Rosenbergiella_nectarea_IMG-taxon_2651870171_annotated_assembly': 'Rosenbergiella_nectarea_8N4'})\n",
    "\n",
    "aai_Rbg.columns = aai_Rbg.columns.str.replace('_', ' ')\n",
    "aai_Rbg.index = aai_Rbg.index.str.replace('_', ' ')\n",
    "\n",
    "aai_Rbg = aai_Rbg[sorted(aai_Rbg.columns)].sort_index()\n",
    "aai_Rbg"
   ]
  },
  {
   "cell_type": "code",
   "execution_count": null,
   "metadata": {},
   "outputs": [],
   "source": [
    "# To export the AAI matrix as a .tsv file\n",
    "pd.DataFrame.to_csv(aai_Rbg, path_or_buf = '/home/sergio/TFM1/reports/comparem/aai_Rbg_matrix.tsv', sep = \"\\t\", index = True)"
   ]
  },
  {
   "cell_type": "code",
   "execution_count": null,
   "metadata": {},
   "outputs": [],
   "source": [
    "# To generate the AAI heatmap\n",
    "df1b = pd.read_csv('/home/sergio/TFM1/reports/comparem/aai_Rbg_matrix.tsv', sep='\\t', index_col=0)\n",
    "fig, ax = plt.subplots(figsize=(6, 6))\n",
    "g=sns.heatmap(df1b, cmap=\"YlGnBu\", square=True, ax=ax)\n",
    "g.set_xticklabels(g.get_xticklabels(), rotation=45, horizontalalignment='right')"
   ]
  },
  {
   "cell_type": "code",
   "execution_count": null,
   "metadata": {},
   "outputs": [],
   "source": [
    "of_Rbg = pd.DataFrame(columns = genome_names_Rbg, index = genome_names_Rbg)\n",
    "for element in mylist_Rbg:\n",
    "    of_Rbg[element[0]][element[1]] = np.float64(element[3])\n",
    "    of_Rbg[element[1]][element[0]] = np.float64(element[3])\n",
    "for i in of_Rbg.index:\n",
    "    of_Rbg.loc[i, i] = np.int64(100)"
   ]
  },
  {
   "cell_type": "code",
   "execution_count": null,
   "metadata": {},
   "outputs": [],
   "source": [
    "# To modify one of the genome names (to make it shorter) and reorder columns and rows by alphabetical order\n",
    "of_Rbg = of_Rbg.rename(columns={'Rosenbergiella_nectarea_IMG-taxon_2651870171_annotated_assembly': 'Rosenbergiella_nectarea_8N4'},\n",
    "               index={'Rosenbergiella_nectarea_IMG-taxon_2651870171_annotated_assembly': 'Rosenbergiella_nectarea_8N4'})\n",
    "\n",
    "of_Rbg.columns = of_Rbg.columns.str.replace('_', ' ')\n",
    "of_Rbg.index = of_Rbg.index.str.replace('_', ' ')\n",
    "\n",
    "of_Rbg = of_Rbg[sorted(of_Rbg.columns)].sort_index()\n",
    "of_Rbg = of_Rbg/100"
   ]
  },
  {
   "cell_type": "code",
   "execution_count": null,
   "metadata": {},
   "outputs": [],
   "source": [
    "# To export the OF matrix as a .tsv file\n",
    "pd.DataFrame.to_csv(of_Rbg, path_or_buf = '/home/sergio/TFM1/reports/comparem/OF_Rbg_matrix.tsv', sep = \"\\t\", index = True)"
   ]
  },
  {
   "cell_type": "code",
   "execution_count": null,
   "metadata": {},
   "outputs": [],
   "source": [
    "# To generate the OF heatmap\n",
    "df2b = pd.read_csv('/home/sergio/TFM1/reports/comparem/OF_Rbg_matrix.tsv', sep='\\t', index_col=0)\n",
    "fig, ax = plt.subplots(figsize=(6, 6))\n",
    "g2=sns.heatmap(df2b, cmap=\"YlGnBu\", square=True, ax=ax)\n",
    "g2.set_xticklabels(g2.get_xticklabels(), rotation=45, horizontalalignment='right')"
   ]
  },
  {
   "cell_type": "code",
   "execution_count": null,
   "metadata": {},
   "outputs": [],
   "source": [
    "# Definition of masks to display numerical values only in the upper triangle\n",
    "\n",
    "mask1 = np.triu(aai_Rbg)\n",
    "mask1 = np.round(mask1.astype(np.float64),1)\n",
    "mask1 = mask1.astype(\"U\")\n",
    "mask1[mask1=='0.0']=['']\n",
    "mask1[mask1=='100.0']=['100']\n",
    "\n",
    "mask2 = np.triu(of_Rbg)\n",
    "mask2 = np.round(mask2.astype(np.float64),2)\n",
    "mask2 = mask2.astype(\"U\")\n",
    "mask2[mask2=='0.0']=['']\n",
    "mask2[mask2=='1.0']=['1']"
   ]
  },
  {
   "cell_type": "code",
   "execution_count": null,
   "metadata": {},
   "outputs": [],
   "source": [
    "# To get the two heatmaps in the same figure:\n",
    "fig, (ax1, ax2) = plt.subplots(1, 2, figsize=(10,10))\n",
    "\n",
    "g=sns.heatmap(df1b, cmap=\"YlGnBu\", annot=mask1, fmt=\"s\", square=True, cbar_kws={\"label\":\"% AAI\", \"location\":\"top\", \"use_gridspec\" : False}, ax=ax1)\n",
    "g.set_xticklabels(g.get_xticklabels(), rotation=45, horizontalalignment='right')\n",
    "g2=sns.heatmap(df2b, cmap=\"YlGnBu\", annot=mask2, fmt=\"s\", square=True, yticklabels=False, cbar_kws={\"label\":\"OF\", \"location\":\"top\", \"use_gridspec\" : False}, ax=ax2)\n",
    "g2.set_xticklabels(g2.get_xticklabels(), rotation=45, horizontalalignment='right')\n",
    "\n",
    "fig.savefig('/home/sergio/TFM1/reports/comparem/aai_of_Rbg_heatmap.pdf', bbox_inches='tight')"
   ]
  }
 ],
 "metadata": {
  "kernelspec": {
   "display_name": "Python 3",
   "language": "python",
   "name": "python3"
  },
  "language_info": {
   "codemirror_mode": {
    "name": "ipython",
    "version": 3
   },
   "file_extension": ".py",
   "mimetype": "text/x-python",
   "name": "python",
   "nbconvert_exporter": "python",
   "pygments_lexer": "ipython3",
   "version": "3.7.7"
  }
 },
 "nbformat": 4,
 "nbformat_minor": 2
}
