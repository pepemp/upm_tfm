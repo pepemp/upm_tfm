{
 "cells": [
  {
   "cell_type": "markdown",
   "metadata": {},
   "source": [
    "## Analysis of Quast reports\n",
    "\n",
    "Sergio Álvarez-Pérez, 2020"
   ]
  },
  {
   "cell_type": "code",
   "execution_count": null,
   "metadata": {},
   "outputs": [],
   "source": [
    "from scipy import stats\n",
    "from collections import Counter\n",
    "from matplotlib.ticker import MaxNLocator\n",
    "import os\n",
    "import math\n",
    "import numpy as np\n",
    "import pandas as pd\n",
    "import matplotlib.pyplot as plt\n",
    "import seaborn as sns"
   ]
  },
  {
   "cell_type": "code",
   "execution_count": null,
   "metadata": {},
   "outputs": [],
   "source": [
    "if not os.path.exists('/home/sergio/TFM1/reports/'): # include here your preferred path\n",
    "    os.mkdir('/home/sergio/TFM1/reports/')\n",
    "    \n",
    "if not os.path.exists('/home/sergio/TFM1/reports/quast'):\n",
    "    os.mkdir('/home/sergio/TFM1/reports/quast')"
   ]
  },
  {
   "cell_type": "code",
   "execution_count": null,
   "metadata": {
    "scrolled": true
   },
   "outputs": [],
   "source": [
    "# Quality checks: assemblies with N50 <25000 bp and/or >500 Ns per 100000 bases will be considered to be of poor quality\n",
    "\n",
    "path = '/home/sergio/TFM1/quast_out/' # path with the outputs of Quast\n",
    "\n",
    "qc_file = open('/home/sergio/TFM1/reports/quast/quast_quality_checks.txt', 'w') # quality checks report\n",
    "qc_file.write(\"QUALITY CHECKS\\n\")\n",
    "qc_file.write(\"-------------------------------------------------\\n\\n\")\n",
    "\n",
    "\n",
    "assembly_list = []\n",
    "contigs_0_list = []\n",
    "contigs_1000_list = []\n",
    "contigs_5000_list = []\n",
    "contigs_10000_list = []\n",
    "contigs_25000_list = []\n",
    "contigs_50000_list = []\n",
    "genome_size_list = []\n",
    "length_0_list = []\n",
    "length_1000_list = []\n",
    "length_5000_list = []\n",
    "length_10000_list = []\n",
    "length_25000_list = []\n",
    "length_50000_list = []\n",
    "contigs_list = []\n",
    "largest_contig_list = []\n",
    "total_length_list = []\n",
    "GC_list = []\n",
    "N50_list = []\n",
    "N75_list = []\n",
    "L50_list = []\n",
    "L75_list = []\n",
    "Ns_list = []\n",
    "          \n",
    "\n",
    "for foldername in os.listdir(path):\n",
    "    for file in os.listdir(path + '/' + foldername):\n",
    "        if file == \"transposed_report.tsv\":\n",
    "            f = open(path + '/' + foldername + '/' + file, \"r\")\n",
    "            lines = f.readlines()\n",
    "            assembly, contigs_0, contigs_1000, contigs_5000, contigs_10000, contigs_25000, contigs_50000, length_0, length_1000, length_5000, length_10000, length_25000, length_50000, contigs, largest_contig, total_length, GC, N50, N75, L50, L75, Ns = lines[1].split(\"\\t\")\n",
    "            if assembly not in ['Pasteurella_multocida_ASM75427v1','Photobacterium_phosphoreum_ASM302627v1','Vibrio_cholerae_ASM62164v1']: # to remove non-Enterobacterales (i.e. outgroup) species\n",
    "                assembly_list.append(assembly)\n",
    "                contigs_0_list.append(int(contigs_0))\n",
    "                contigs_1000_list.append(int(contigs_1000))\n",
    "                contigs_5000_list.append(int(contigs_5000))\n",
    "                contigs_10000_list.append(int(contigs_10000))\n",
    "                contigs_25000_list.append(int(contigs_25000))\n",
    "                contigs_50000_list.append(int(contigs_50000))\n",
    "                genome_size_list.append(int(length_0)/1e6)\n",
    "                length_0_list.append(int(length_0))\n",
    "                length_1000_list.append(int(length_1000))\n",
    "                length_5000_list.append(int(length_5000))\n",
    "                length_10000_list.append(int(length_10000))\n",
    "                length_25000_list.append(int(length_25000))\n",
    "                length_50000_list.append(int(length_50000))\n",
    "                contigs_list.append(int(contigs))\n",
    "                largest_contig_list.append(int(largest_contig))\n",
    "                total_length_list.append(int(total_length))\n",
    "                GC_list.append(float(GC))\n",
    "                N50_list.append(int(N50))\n",
    "                N75_list.append(int(N75))\n",
    "                L50_list.append(int(L50))\n",
    "                L75_list.append(int(L75))\n",
    "                Ns_list.append(float(Ns))\n",
    "            \n",
    "            if int(N50) < 25000: # N50 <25000 bp\n",
    "                qc_file.write(\">>> Low N50 value for genome \" + assembly + \" --> N50 = \" + str(N50) +  \"\\n\")\n",
    "            \n",
    "            if float(Ns) > 500: # Ns per 100000 bases >500\n",
    "                qc_file.write(\">>> High number of Ns for genome \" + assembly + \" --> Ns per 100 kbp = \" + str(Ns) +  \"\\n\")\n",
    "            \n",
    "            if int(N50) >= 25000 and float(Ns) <= 500:\n",
    "                qc_file.write(\">>> QC check PASSED for genome \" + assembly + \" !!!\\n\")\n",
    "\n",
    "            f.close()\n",
    "            \n",
    "qc_file.write(\"\\n**************** END OF THE FILE ****************\")\n",
    "qc_file.close()\n",
    "\n",
    "\n",
    "mylists = {'assembly': assembly_list, '# contigs (>= 0 bp)': contigs_0_list, '# contigs (>= 1000 bp)': contigs_1000_list,\n",
    "           '# contigs (>= 5000 bp)': contigs_5000_list, '# contigs (>= 10000 bp)': contigs_10000_list, '# contigs (>= 25000 bp)': contigs_25000_list,\n",
    "           '# contigs (>= 50000 bp)': contigs_50000_list, 'Genome size (Mb)': genome_size_list, 'Total length (>= 0 bp)': length_0_list, 'Total length (>= 1000 bp)': length_1000_list,\n",
    "           'Total length (>= 5000 bp)': length_5000_list, 'Total length (>= 10000 bp)': length_10000_list, 'Total length (>= 25000 bp)': length_25000_list,\n",
    "           'Total length (>= 50000 bp)': length_50000_list, '# contigs': contigs_list, 'Largest contig': largest_contig_list,\n",
    "           'Total length': total_length_list, '%GC': GC_list, 'N50': N50_list, 'N75': N75_list, 'L50': L50_list,\n",
    "           'L75': L75_list, '# Ns per 100 kbp': Ns_list}"
   ]
  },
  {
   "cell_type": "code",
   "execution_count": null,
   "metadata": {
    "scrolled": true
   },
   "outputs": [],
   "source": [
    "# To create a pandas dataframe from the dictionary obtained above and generate a .csv report\n",
    "\n",
    "df = pd.DataFrame.from_dict(mylists)\n",
    "pd.DataFrame.to_csv(df, path_or_buf = '/home/sergio/TFM1/reports/quast/quast_results_per_species.tsv', sep = \"\\t\", index = False)\n",
    "df"
   ]
  },
  {
   "cell_type": "code",
   "execution_count": null,
   "metadata": {
    "scrolled": false
   },
   "outputs": [],
   "source": [
    "# To generate a report with some basic statistics for each parameter and barplots in .pdf format\n",
    "\n",
    "results_file = open('/home/sergio/TFM1/reports/quast/quast_summary_statistics.tsv', 'w')\n",
    "results_file.write(\"Parameter\\tn\\tmean\\ts.d.\\tmedian\\tmode\\n\")\n",
    "\n",
    "parameters = ['# contigs', 'Genome size (Mb)', '%GC', 'N50', 'L50', '# Ns per 100 kbp']\n",
    "\n",
    "\n",
    "for k, v in mylists.items():\n",
    "    if k != 'assembly':\n",
    "        results_file.write(k + \"\\t\" + str(len(v)) + \"\\t\" + str(np.round(np.average(v),2)) + \"\\t\" + str(np.round(np.std(v),2)) + \"\\t\" + str(np.round(np.median(v),2)) + \"\\t\" + str(stats.mode(v)[0][0]) + \"\\n\")\n",
    "        \n",
    "        if k in parameters:\n",
    "            ax = df.hist(column=k, bins='auto', grid=False, xlabelsize=14, xrot=45, ylabelsize=14, align='mid', rwidth=0.5)\n",
    "            ax = ax[0]\n",
    "            for x in ax:\n",
    "                x.set_title(\"\")\n",
    "                x.set_ylabel(\"No. genomes\", labelpad=10, weight='bold', size=14)\n",
    "                x.set_xlabel(k, labelpad=10, weight='bold', size=14)\n",
    "                x.yaxis.set_major_locator(MaxNLocator(integer=True))\n",
    "    \n",
    "                plt.savefig(\"/home/sergio/TFM1/reports/quast/plot_QUAST_\" + k + \".pdf\", bbox_inches='tight')\n",
    "        \n",
    "results_file.close()"
   ]
  },
  {
   "cell_type": "code",
   "execution_count": null,
   "metadata": {},
   "outputs": [],
   "source": [
    "# The following commands will generate box-and-whiskers plots for some key parameters (genome size and GC content)\n",
    "# Then, a swarm plot will be place on top of each panel. The position of Rosenbergiella genomes will be indicated by red dots\n",
    "\n",
    "df.insert(1, 'Genus', 'Other')\n",
    "df"
   ]
  },
  {
   "cell_type": "code",
   "execution_count": null,
   "metadata": {},
   "outputs": [],
   "source": [
    "df.loc[(df.assembly.str.startswith('Rosenbergiella'),'Genus')]='Rosenbergiella'\n",
    "df"
   ]
  },
  {
   "cell_type": "code",
   "execution_count": null,
   "metadata": {},
   "outputs": [],
   "source": [
    "mypalette = ['grey','red']\n",
    "sns.set(font_scale=1.2, style='white') \n",
    "fig, (ax1, ax2) = plt.subplots(1, 2, figsize=(16,5))\n",
    "g1 = sns.boxplot(x='Genome size (Mb)', data=df, color='lightsteelblue', fliersize=0, ax=ax1)\n",
    "g1 = sns.swarmplot(x='Genome size (Mb)', y=[\"\"]*len(df), hue='Genus', palette=mypalette, data=df, ax=ax1)\n",
    "g1.legend_.remove()\n",
    "g2 = sns.boxplot(x='%GC', data=df, color='lightgreen', fliersize=0, ax=ax2)\n",
    "g2 = sns.swarmplot(x='%GC', y=[\"\"]*len(df), hue='Genus', palette=mypalette, data=df, ax=ax2)\n",
    "g2.legend_.remove()\n",
    "\n",
    "fig.savefig('/home/sergio/TFM1/reports/quast/QUAST_boxplots.pdf', bbox_inches='tight')"
   ]
  }
 ],
 "metadata": {
  "kernelspec": {
   "display_name": "Python 3",
   "language": "python",
   "name": "python3"
  },
  "language_info": {
   "codemirror_mode": {
    "name": "ipython",
    "version": 3
   },
   "file_extension": ".py",
   "mimetype": "text/x-python",
   "name": "python",
   "nbconvert_exporter": "python",
   "pygments_lexer": "ipython3",
   "version": "3.7.7"
  }
 },
 "nbformat": 4,
 "nbformat_minor": 2
}
