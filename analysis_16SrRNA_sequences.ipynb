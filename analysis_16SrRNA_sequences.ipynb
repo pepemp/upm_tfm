{
 "cells": [
  {
   "cell_type": "markdown",
   "metadata": {},
   "source": [
    "## Phylogenetic analysis of 16S rRNA sequences\n",
    "\n",
    "Sergio Álvarez-Pérez, 2020"
   ]
  },
  {
   "cell_type": "code",
   "execution_count": null,
   "metadata": {},
   "outputs": [],
   "source": [
    "import sys\n",
    "import os\n",
    "import re\n",
    "import Bio\n",
    "import pandas as pd\n",
    "from Bio import Entrez, SeqIO"
   ]
  },
  {
   "cell_type": "code",
   "execution_count": null,
   "metadata": {},
   "outputs": [],
   "source": [
    "if not os.path.exists('/home/sergio/TFM1/reports/'): # include here your preferred path\n",
    "    os.mkdir('/home/sergio/TFM1/reports/')\n",
    "\n",
    "if not os.path.exists('/home/sergio/TFM1/reports/16SrRNA/'):\n",
    "    os.mkdir('/home/sergio/TFM1/reports/16SrRNA/')"
   ]
  },
  {
   "cell_type": "code",
   "execution_count": null,
   "metadata": {
    "scrolled": true
   },
   "outputs": [],
   "source": [
    "path = '/home/sergio/TFM1/'\n",
    "\n",
    "for filename in os.listdir(path):\n",
    "    if re.match(\"Enterobacterales_16SrRNA.xlsx\", filename): # download this .xlsx file from GitHub to your preferred path\n",
    "        df = pd.read_excel(os.path.join(path, filename)).set_index('Accession_no')\n",
    "        df['Species'] = df['Species'].str.replace(\" \",\"_\")\n",
    "        df['Strain'] = df['Strain'].str.replace(\" \",\"\")\n",
    "\n",
    "df"
   ]
  },
  {
   "cell_type": "code",
   "execution_count": null,
   "metadata": {
    "scrolled": true
   },
   "outputs": [],
   "source": [
    "ids = list(df.index)\n",
    "\n",
    "# Uncomment this part to retrieve the target sequences from the NCBI database and write them into a .fasta file\n",
    "\"\"\"\n",
    "myfile = open('/home/sergio/TFM1/reports/16SrRNA/16SrRNA.fasta', 'w')\n",
    "Entrez.email = \"xxxxxx@xxxxx.xx\" # Include here a valid e-mail address!!\n",
    "for seq_id in ids:\n",
    "    handle = Entrez.efetch(db=\"nucleotide\", id=seq_id, rettype=\"fasta\")\n",
    "    record = handle.read()\n",
    "    print (record)\n",
    "    myfile.write(record)\n",
    "myfile.close()\n",
    "\"\"\""
   ]
  },
  {
   "cell_type": "code",
   "execution_count": null,
   "metadata": {},
   "outputs": [],
   "source": [
    "# To make some edits in the .fasta file (headers of each record)\n",
    "\n",
    "original_file = '/home/sergio/TFM1/reports/16SrRNA/16SrRNA.fasta'\n",
    "corrected_file = '/home/sergio/TFM1/reports/16SrRNA/16SrRNA_new.fasta'\n",
    "\n",
    "with open(original_file) as original, open(corrected_file, 'w') as corrected:\n",
    "    records = SeqIO.parse(original_file, 'fasta')\n",
    "    for record in records:\n",
    "        accession = re.match(\"(.+)\\..+\", record.id).groups()[0]\n",
    "        species = df.loc[[accession],['Species']].Species.item()\n",
    "        strain = df.loc[[accession],['Strain']].Strain.item()\n",
    "        record.id = \"\"\n",
    "        record.description = str(accession + \"_\" + species + '_' + strain)\n",
    "        SeqIO.write(record, corrected, 'fasta')"
   ]
  },
  {
   "cell_type": "markdown",
   "metadata": {},
   "source": [
    "### For the following commands, use the bash terminal:"
   ]
  },
  {
   "cell_type": "code",
   "execution_count": null,
   "metadata": {},
   "outputs": [],
   "source": [
    "# Multiple sequence alignment using MUSCLE:\n",
    "# muscle -in /home/sergio/TFM1/reports/16SrRNA/16SrRNA_new.fasta -out /home/sergio/TFM1/reports/16SrRNA/16SrRNA.aln"
   ]
  },
  {
   "cell_type": "code",
   "execution_count": null,
   "metadata": {},
   "outputs": [],
   "source": [
    "# Removal of gaps and poorly aligned regions using Gblocks:\n",
    "# Gblocks /home/sergio/TFM1/reports/16SrRNA/16SrRNA.aln 16SrRNA.aln -t=d -b4=5 -b5=h\n",
    "# cat /home/sergio/TFM1/reports/16SrRNA/16SrRNA.aln-gb > /home/sergio/TFM1/reports/16SrRNA/16SrRNA_alignment.fasta\n",
    "\n",
    "# Remove the 5' and 3' overhangs (e.g. using MEGA X) and save the file as 16SrRNA_final_alignment.fas\n",
    "# mkdir /home/sergio/TFM1/reports/16SrRNA/16SrRNA_tree_gblocks/\n",
    "# cp /home/sergio/TFM1/reports/16SrRNA/16SrRNA_final_alignment.fas /home/sergio/TFM1/reports/16SrRNA/16SrRNA_tree_gblocks/\n",
    "\n",
    "# Phylogenetic tree using IQtree:\n",
    "# iqtree -s /home/sergio/TFM1/reports/16SrRNA/16SrRNA_tree_gblocks/16SrRNA_final_alignment.fas -m TEST -alrt 1000 -bb 1000 -nt 4 "
   ]
  },
  {
   "cell_type": "code",
   "execution_count": null,
   "metadata": {},
   "outputs": [],
   "source": [
    "# Repetition of the phylogenetic analysis using the original (i.e. non-trimmed alignment)\n",
    "# mkdir /home/sergio/TFM1/reports/16SrRNA/16SrRNA_tree/\n",
    "# cat /home/sergio/TFM1/reports/16SrRNA/16SrRNA.aln > /home/sergio/TFM1/reports/16SrRNA/16SrRNA_tree/16SrRNA.fas\n",
    "\n",
    "# Remove the 5' and 3' overhangs (e.g. using MEGA X) and save the file as 16SrRNA_aln.fas\n",
    "\n",
    "# iqtree -s /home/sergio/TFM1/reports/16SrRNA/16SrRNA_tree/16SrRNA_aln.fas -alrt 1000 -bb 1000 -nt 4"
   ]
  }
 ],
 "metadata": {
  "kernelspec": {
   "display_name": "Python 3",
   "language": "python",
   "name": "python3"
  },
  "language_info": {
   "codemirror_mode": {
    "name": "ipython",
    "version": 3
   },
   "file_extension": ".py",
   "mimetype": "text/x-python",
   "name": "python",
   "nbconvert_exporter": "python",
   "pygments_lexer": "ipython3",
   "version": "3.7.7"
  }
 },
 "nbformat": 4,
 "nbformat_minor": 4
}
