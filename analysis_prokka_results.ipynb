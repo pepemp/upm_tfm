{
 "cells": [
  {
   "cell_type": "markdown",
   "metadata": {},
   "source": [
    "## Analysis of Prokka results\n",
    "\n",
    "Sergio Álvarez-Pérez, 2020"
   ]
  },
  {
   "cell_type": "code",
   "execution_count": null,
   "metadata": {},
   "outputs": [],
   "source": [
    "import os\n",
    "import re\n",
    "import pandas as pd\n",
    "import matplotlib.pyplot as plt\n",
    "from matplotlib.ticker import MaxNLocator\n",
    "from scipy import stats\n",
    "import numpy as np"
   ]
  },
  {
   "cell_type": "code",
   "execution_count": null,
   "metadata": {},
   "outputs": [],
   "source": [
    "if not os.path.exists('/home/sergio/TFM1/reports/'): # include here your preferred path\n",
    "    os.mkdir('/home/sergio/TFM1/reports/')\n",
    "if not os.path.exists('/home/sergio/TFM1/reports/prokka'):\n",
    "    os.mkdir('/home/sergio/TFM1/reports/prokka')"
   ]
  },
  {
   "cell_type": "code",
   "execution_count": null,
   "metadata": {},
   "outputs": [],
   "source": [
    "# To generate a report of Prokka results per species in .tsv format\n",
    "\n",
    "path = '/home/sergio/TFM1/prokka_summaries/' # path to the folder containing Prokka summary reports\n",
    "\n",
    "results_file = open('/home/sergio/TFM1/reports/prokka/prokka_results.tsv', 'w')\n",
    "results_file.write(\"organism\\tcontigs\\tbases\\trepeat_region\\tCDS\\ttmRNA\\ttRNA\\trRNA\\n\")\n",
    "\n",
    "for filename in os.listdir(path):\n",
    "    if re.match(\"(.+)\\.txt\", filename):\n",
    "        f = open(path + filename, \"r\")\n",
    "        organism = re.match(\"(.+)\\.txt\", filename)\n",
    "        organism = organism.groups()[0]\n",
    "        filetext = f.read()\n",
    "            \n",
    "        contigs = re.search(\"contigs\\D*([0-9]*)\", filetext)\n",
    "        if contigs:\n",
    "            contigs = contigs.groups()[0]\n",
    "        else:\n",
    "            contigs = \"NA\"\n",
    "            \n",
    "        bases = re.search(\"bases\\D*([0-9]*)\", filetext)\n",
    "        if bases:\n",
    "            bases = bases.groups()[0]\n",
    "        else:\n",
    "            bases = \"NA\"\n",
    "            \n",
    "        repeat_region = re.search(\"repeat_region\\D*([0-9]*)\", filetext)\n",
    "        if repeat_region:\n",
    "            repeat_region = repeat_region.groups()[0]\n",
    "        else:\n",
    "            repeat_region = \"NA\"\n",
    "            \n",
    "        CDS = re.search(\"CDS\\D*([0-9]*)\", filetext)\n",
    "        if CDS:\n",
    "            CDS = CDS.groups()[0]\n",
    "        else:\n",
    "            CDS = \"NA\"\n",
    "            \n",
    "        tmRNA = re.search(\"tmRNA\\D*([0-9]*)\", filetext)\n",
    "        if tmRNA:\n",
    "            tmRNA = tmRNA.groups()[0]\n",
    "        else:\n",
    "            tmRNA = \"NA\"\n",
    "            \n",
    "        tRNA = re.search(\"tRNA\\D*([0-9]*)\", filetext)\n",
    "        if tRNA:\n",
    "            tRNA = tRNA.groups()[0]\n",
    "        else:\n",
    "            tRNA = \"NA\"\n",
    "            \n",
    "        rRNA = re.search(\"rRNA\\D*([0-9]*)\", filetext)\n",
    "        if rRNA:\n",
    "            rRNA = rRNA.groups()[0]\n",
    "        else:\n",
    "            rRNA = \"NA\"\n",
    "\n",
    "        results_file.write(organism + \"\\t\" + contigs + \"\\t\" + bases + \"\\t\" + repeat_region + \"\\t\" + CDS + \"\\t\" + tmRNA + \"\\t\" + tRNA + \"\\t\" + rRNA + \"\\n\")\n",
    "        print(organism + \"\\t\" + contigs + \"\\t\" + bases + \"\\t\" + repeat_region + \"\\t\" + CDS + \"\\t\" + tmRNA + \"\\t\" + tRNA + \"\\t\" + rRNA + \"\\n\")\n",
    "\n",
    "results_file.close()"
   ]
  },
  {
   "cell_type": "code",
   "execution_count": null,
   "metadata": {
    "scrolled": true
   },
   "outputs": [],
   "source": [
    "organism_list = []\n",
    "contigs_list = []\n",
    "bases_list = []\n",
    "repeat_region_list = []\n",
    "CDS_list = []\n",
    "tmRNA_list = []\n",
    "tRNA_list = []\n",
    "rRNA_list = []\n",
    "\n",
    "with open('/home/sergio/TFM1/reports/prokka/prokka_results.tsv') as f:\n",
    "    next(f)\n",
    "    for line in f:\n",
    "        O, C1, C2, C3, C4, C5, C6, C7 = line.split(\"\\t\")\n",
    "        organism_list.append(O)\n",
    "        contigs_list.append(int(C1))\n",
    "        bases_list.append(int(C2))\n",
    "        repeat_region_list.append(C3)\n",
    "        CDS_list.append(int(C4))\n",
    "        tmRNA_list.append(C5)\n",
    "        tRNA_list.append(int(C6))\n",
    "        rRNA_list.append(int(C7))\n",
    "        \n",
    "f.close()\n",
    "\n",
    "mylists = {'organism': organism_list, 'contigs': contigs_list, 'bases': bases_list, 'repeat_region': repeat_region_list, 'CDS': CDS_list, 'tmRNA': tmRNA_list, 'tRNA': tRNA_list, 'rRNA': rRNA_list}"
   ]
  },
  {
   "cell_type": "code",
   "execution_count": null,
   "metadata": {},
   "outputs": [],
   "source": [
    "df = pd.DataFrame.from_dict(mylists)\n",
    "df"
   ]
  },
  {
   "cell_type": "code",
   "execution_count": null,
   "metadata": {},
   "outputs": [],
   "source": [
    "# To generate a report with some basic statistics for each parameter and barplots in .pdf format\n",
    "results_file = open('/home/sergio/TFM1/reports/prokka/prokka_summary_statistics.tsv', 'w')\n",
    "results_file.write(\"Parameter\\tn\\tmean\\ts.d.\\tmedian\\tmode\\n\")\n",
    "\n",
    "parameters = [\"contigs\", \"bases\", \"CDS\", \"tRNA\", \"rRNA\"]\n",
    "\n",
    "for k, v in mylists.items():\n",
    "    if k in parameters:\n",
    "        results_file.write(k + \"\\t\" + str(len(v)) + \"\\t\" + str(np.round(np.average(v),2)) + \"\\t\" + str(np.round(np.std(v),2)) + \"\\t\" + str(np.round(np.median(v),2)) + \"\\t\" + str(stats.mode(v)[0][0]) + \"\\n\")\n",
    "        \n",
    "        ax = df.hist(column=k, bins='auto', color='limegreen', grid=False, xlabelsize=14, xrot=45, ylabelsize=14, align='mid', rwidth=0.5)\n",
    "        ax = ax[0]\n",
    "        for x in ax:\n",
    "            x.set_title(\"\")\n",
    "            x.set_ylabel(\"No. genomes\", labelpad=10, weight='bold', size=14)\n",
    "            x.set_xlabel(k, labelpad=10, weight='bold', size=14)\n",
    "            x.yaxis.set_major_locator(MaxNLocator(integer=True))\n",
    "    \n",
    "        plt.savefig(\"/home/sergio/TFM1/reports/prokka/plot_prokka_\" + k + \".pdf\", bbox_inches='tight')\n",
    "        \n",
    "results_file.close()"
   ]
  }
 ],
 "metadata": {
  "kernelspec": {
   "display_name": "Python 3",
   "language": "python",
   "name": "python3"
  },
  "language_info": {
   "codemirror_mode": {
    "name": "ipython",
    "version": 3
   },
   "file_extension": ".py",
   "mimetype": "text/x-python",
   "name": "python",
   "nbconvert_exporter": "python",
   "pygments_lexer": "ipython3",
   "version": "3.7.7"
  }
 },
 "nbformat": 4,
 "nbformat_minor": 2
}
