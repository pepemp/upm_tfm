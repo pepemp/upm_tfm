{
 "cells": [
  {
   "cell_type": "markdown",
   "metadata": {},
   "source": [
    "## Analysis of RAST annotation results\n",
    "\n",
    "Sergio Álvarez-Pérez, 2020"
   ]
  },
  {
   "cell_type": "code",
   "execution_count": null,
   "metadata": {},
   "outputs": [],
   "source": [
    "import os\n",
    "import re\n",
    "import pandas as pd\n",
    "import numpy as np"
   ]
  },
  {
   "cell_type": "code",
   "execution_count": null,
   "metadata": {},
   "outputs": [],
   "source": [
    "if not os.path.exists('/home/sergio/TFM1/reports/'): # include here your preferred path\n",
    "    os.mkdir('/home/sergio/TFM1/reports/')\n",
    "\n",
    "if not os.path.exists('/home/sergio/TFM1/reports/rast/'):\n",
    "    os.mkdir('/home/sergio/TFM1/reports/rast/')"
   ]
  },
  {
   "cell_type": "code",
   "execution_count": null,
   "metadata": {
    "scrolled": true
   },
   "outputs": [],
   "source": [
    "path = '/home/sergio/TFM1/RAST/' # path to the folder containing the results files downloaded from the RAST server (https://rast.nmpdr.org/)\n",
    "categories_dict = {}\n",
    "subcategories_dict = {}\n",
    "subsystems_dict = {}\n",
    "functions_dict = {}\n",
    "\n",
    "for foldername in os.listdir(path):\n",
    "    for filename in os.listdir(os.path.join(path, foldername)):\n",
    "        match = re.match(\"RAST_(.+)_categories\\.tsv\", filename)\n",
    "        if match:\n",
    "            species = match.groups()[0]\n",
    "            categories_list = []\n",
    "            subcategories_list = []\n",
    "            subsystems_list = []\n",
    "            functions_list = []\n",
    "            with open(os.path.join(path, foldername, filename), \"r\") as f:\n",
    "                next(f)\n",
    "                for line in f:\n",
    "                    category, subcategory, subsystem, role, features = line.split(\"\\t\")\n",
    "                    categories_list.append(category)\n",
    "                    subcategories_list.append(subcategory)\n",
    "                    subsystems_list.append(subsystem)\n",
    "                    functions_list.append(category + \" / \" + subcategory + \" / \" + subsystem)\n",
    "            f.close()\n",
    "        \n",
    "            values1, counts1 = np.unique(categories_list, return_counts=True)\n",
    "            values1 = values1.tolist()\n",
    "            counts1 = counts1.tolist()\n",
    "            newdict1 = {}\n",
    "            for v in values1:\n",
    "                newpair1 = v, counts1[values1.index(v)]\n",
    "                newdict1.update({newpair1})\n",
    "            categories_dict[str(species)] = newdict1\n",
    "        \n",
    "            values2, counts2 = np.unique(subcategories_list, return_counts=True)\n",
    "            values2 = values2.tolist()\n",
    "            counts2 = counts2.tolist()\n",
    "            newdict2 = {}\n",
    "            for v in values2:\n",
    "                newpair2 = v, counts2[values2.index(v)]\n",
    "                newdict2.update({newpair2})\n",
    "            subcategories_dict[str(species)] = newdict2\n",
    "        \n",
    "            values3, counts3 = np.unique(subsystems_list, return_counts=True)\n",
    "            values3 = values3.tolist()\n",
    "            counts3 = counts3.tolist()\n",
    "            newdict3 = {}\n",
    "            for v in values3:\n",
    "                newpair3 = v, counts3[values3.index(v)]\n",
    "                newdict3.update({newpair3})\n",
    "            subsystems_dict[str(species)] = newdict3\n",
    "        \n",
    "            values4, counts4 = np.unique(functions_list, return_counts=True)\n",
    "            values4 = values4.tolist()\n",
    "            counts4 = counts4.tolist()\n",
    "            newdict4 = {}\n",
    "            for v in values4:\n",
    "                newpair4 = v, counts4[values4.index(v)]\n",
    "                newdict4.update({newpair4})\n",
    "            functions_dict[str(species)] = newdict4\n"
   ]
  },
  {
   "cell_type": "code",
   "execution_count": null,
   "metadata": {
    "scrolled": true
   },
   "outputs": [],
   "source": [
    "# To generate a report of the RAST categories per species in .tsv format\n",
    "df1 = pd.DataFrame.from_dict(categories_dict).fillna('0')\n",
    "df1 = df1[sorted(df1.columns)].sort_index()\n",
    "pd.DataFrame.to_csv(df1, path_or_buf = '/home/sergio/TFM1/reports/rast/RAST_categories_per_species.tsv', sep = \"\\t\", na_rep = \"0\")\n",
    "df1"
   ]
  },
  {
   "cell_type": "code",
   "execution_count": null,
   "metadata": {
    "scrolled": true
   },
   "outputs": [],
   "source": [
    "# To generate a report of the RAST subcategories per species in .tsv format\n",
    "df2 = pd.DataFrame.from_dict(subcategories_dict).fillna('0')\n",
    "df2 = df2[sorted(df2.columns)].sort_index()\n",
    "pd.DataFrame.to_csv(df2, path_or_buf = '/home/sergio/TFM1/reports/rast/RAST_subcategories_per_species.tsv', sep = \"\\t\", na_rep = \"0\")\n",
    "df2"
   ]
  },
  {
   "cell_type": "code",
   "execution_count": null,
   "metadata": {},
   "outputs": [],
   "source": [
    "# To generate a report of the RAST subsystems per species in .tsv format\n",
    "df3 = pd.DataFrame.from_dict(subsystems_dict).fillna('0')\n",
    "df3 = df3[sorted(df1.columns)].sort_index()\n",
    "pd.DataFrame.to_csv(df3, path_or_buf = '/home/sergio/TFM1/reports/rast/RAST_subsystems_per_species.tsv', sep = \"\\t\", na_rep = \"0\")\n",
    "df3"
   ]
  },
  {
   "cell_type": "code",
   "execution_count": null,
   "metadata": {},
   "outputs": [],
   "source": [
    "# To generate a report of the functional categories per species in .tsv format\n",
    "df4 = pd.DataFrame.from_dict(functions_dict).fillna('0')\n",
    "df4 = df4[sorted(df4.columns)].sort_index()\n",
    "pd.DataFrame.to_csv(df4, path_or_buf = '/home/sergio/TFM1/reports/rast/RAST_functions_per_species.tsv', sep = \"\\t\", na_rep = \"0\")\n",
    "df4"
   ]
  }
 ],
 "metadata": {
  "kernelspec": {
   "display_name": "Python 3",
   "language": "python",
   "name": "python3"
  },
  "language_info": {
   "codemirror_mode": {
    "name": "ipython",
    "version": 3
   },
   "file_extension": ".py",
   "mimetype": "text/x-python",
   "name": "python",
   "nbconvert_exporter": "python",
   "pygments_lexer": "ipython3",
   "version": "3.7.7"
  }
 },
 "nbformat": 4,
 "nbformat_minor": 2
}
