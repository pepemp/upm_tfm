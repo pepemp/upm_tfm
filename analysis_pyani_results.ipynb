{
 "cells": [
  {
   "cell_type": "markdown",
   "metadata": {},
   "source": [
    "## Analysis of pyani results: generation of ANI and TETRA heatmaps for *Rosenbergiella* spp.\n",
    "\n",
    "\n",
    "Sergio Álvarez-Pérez, 2020"
   ]
  },
  {
   "cell_type": "code",
   "execution_count": null,
   "metadata": {},
   "outputs": [],
   "source": [
    "import os\n",
    "import re\n",
    "import ast\n",
    "import numpy as np\n",
    "import pandas as pd\n",
    "import matplotlib.pyplot as plt\n",
    "from scipy import stats\n",
    "import seaborn as sns"
   ]
  },
  {
   "cell_type": "code",
   "execution_count": null,
   "metadata": {},
   "outputs": [],
   "source": [
    "if not os.path.exists('/home/sergio/TFM1/reports/'): # include here your preferred path\n",
    "    os.mkdir('/home/sergio/TFM1/reports/')\n",
    "\n",
    "if not os.path.exists('/home/sergio/TFM1/reports/pyani'):\n",
    "    os.mkdir('/home/sergio/TFM1/reports/pyani')"
   ]
  },
  {
   "cell_type": "code",
   "execution_count": null,
   "metadata": {
    "scrolled": true
   },
   "outputs": [],
   "source": [
    "# Creation of a data frame from the ANI matrix\n",
    "# Note that such matrix contains 106 rows and 106 columns (one per genome analyzed)\n",
    "\n",
    "path1 = '/home/sergio/TFM1/pyani' # path with the outputs of pyani (ANI matrix)\n",
    "\n",
    "for file in os.listdir(path1):\n",
    "    if file == 'ANIm_percentage_identity.tab':\n",
    "        df1 = pd.read_csv(os.path.join(path1,file), sep='\\t', index_col=0)\n",
    "\n",
    "# To express all values as percentages with two decimal positions      \n",
    "df1 = df1 * 100\n",
    "df1 = df1.round(2)\n",
    "df1"
   ]
  },
  {
   "cell_type": "code",
   "execution_count": null,
   "metadata": {},
   "outputs": [],
   "source": [
    "# Creation of a data frame from the TETRA matrix\n",
    "\n",
    "path2 = '/home/sergio/TFM1/pyani_tetra' # path with the outputs of pyani (TETRA matrix)\n",
    "\n",
    "for file in os.listdir(path2):\n",
    "    if file == 'TETRA_correlations.tab':\n",
    "        df2 = pd.read_csv(os.path.join(path2,file), sep='\\t', index_col=0)\n",
    "\n",
    "# To express all values with two decimal positions      \n",
    "df2 = df2.round(2)\n",
    "df2"
   ]
  },
  {
   "cell_type": "code",
   "execution_count": null,
   "metadata": {},
   "outputs": [],
   "source": [
    "# To retain the columns and rows corresponding to Rosenbergiella spp.\n",
    "df1 = df1.filter(regex='Rosenbergiella', axis=1).filter(regex='Rosenbergiella', axis=0)\n",
    "\n",
    "# To modify one of the genome names (to make it shorter) and reorder columns and rows by alphabetical order\n",
    "df1 = df1.rename(columns={'Rosenbergiella_nectarea_IMG-taxon_2651870171_annotated_assembly': 'Rosenbergiella_nectarea_8N4'},\n",
    "               index={'Rosenbergiella_nectarea_IMG-taxon_2651870171_annotated_assembly': 'Rosenbergiella_nectarea_8N4'})\n",
    "\n",
    "df1.columns = df1.columns.str.replace('_', ' ')\n",
    "df1.index = df1.index.str.replace('_', ' ')\n",
    "\n",
    "df1 = df1[sorted(df1.columns)].sort_index()\n",
    "\n",
    "pd.DataFrame.to_csv(df1, path_or_buf = '/home/sergio/TFM1/reports/pyani/ani_Rbg_matrix.tsv', sep = \"\\t\", index = True)"
   ]
  },
  {
   "cell_type": "code",
   "execution_count": null,
   "metadata": {},
   "outputs": [],
   "source": [
    "# Same operations as above for the TETRA data frame\n",
    "df2 = df2.filter(regex='Rosenbergiella', axis=1).filter(regex='Rosenbergiella', axis=0)\n",
    "\n",
    "df2 = df2.rename(columns={'Rosenbergiella_nectarea_IMG-taxon_2651870171_annotated_assembly': 'Rosenbergiella_nectarea_8N4'},\n",
    "               index={'Rosenbergiella_nectarea_IMG-taxon_2651870171_annotated_assembly': 'Rosenbergiella_nectarea_8N4'})\n",
    "\n",
    "df2.columns = df2.columns.str.replace('_', ' ')\n",
    "df2.index = df2.index.str.replace('_', ' ')\n",
    "\n",
    "df2 = df2[sorted(df2.columns)].sort_index()\n",
    "\n",
    "pd.DataFrame.to_csv(df2, path_or_buf = '/home/sergio/TFM1/reports/pyani/TETRA_Rbg_matrix.tsv', sep = \"\\t\", index = True)"
   ]
  },
  {
   "cell_type": "code",
   "execution_count": null,
   "metadata": {},
   "outputs": [],
   "source": [
    "# Definition of masks to display numerical values only in the upper triangle\n",
    "\n",
    "mask1 = np.triu(df1)\n",
    "mask1 = np.round(mask1.astype(np.float64),1)\n",
    "mask1 = mask1.astype(\"U\")\n",
    "mask1[mask1=='0.0']=['']\n",
    "mask1[mask1=='100.0']=['100']\n",
    "\n",
    "mask2 = np.triu(df2)\n",
    "mask2 = np.round(mask2.astype(np.float64),2)\n",
    "mask2 = mask2.astype(\"U\")\n",
    "mask2[mask2=='0.0']=['']\n",
    "mask2[mask2=='1.0']=['1']"
   ]
  },
  {
   "cell_type": "code",
   "execution_count": null,
   "metadata": {},
   "outputs": [],
   "source": [
    "# To get the ANI and TETRA heatmaps in the same figure:\n",
    "fig, (ax1, ax2) = plt.subplots(1, 2, figsize=(10,10))\n",
    "\n",
    "g=sns.heatmap(df1, cmap=\"YlGnBu\", annot=mask1, fmt=\"s\", square=True, cbar_kws={\"label\":\"% ANI\", \"location\":\"top\", \"use_gridspec\" : False}, ax=ax1)\n",
    "g.set_xticklabels(g.get_xticklabels(), rotation=45, horizontalalignment='right')\n",
    "g2=sns.heatmap(df2, cmap=\"YlGnBu\", annot=mask2, fmt=\"s\", square=True, yticklabels=False, cbar_kws={\"label\":\"TETRA\", \"location\":\"top\", \"use_gridspec\" : False}, ax=ax2)\n",
    "g2.set_xticklabels(g2.get_xticklabels(), rotation=45, horizontalalignment='right')\n",
    "\n",
    "fig.savefig('/home/sergio/TFM1/reports/pyani/ani_TETRA_Rbg_heatmap.pdf', bbox_inches='tight')"
   ]
  }
 ],
 "metadata": {
  "kernelspec": {
   "display_name": "Python 3",
   "language": "python",
   "name": "python3"
  },
  "language_info": {
   "codemirror_mode": {
    "name": "ipython",
    "version": 3
   },
   "file_extension": ".py",
   "mimetype": "text/x-python",
   "name": "python",
   "nbconvert_exporter": "python",
   "pygments_lexer": "ipython3",
   "version": "3.7.7"
  }
 },
 "nbformat": 4,
 "nbformat_minor": 2
}
