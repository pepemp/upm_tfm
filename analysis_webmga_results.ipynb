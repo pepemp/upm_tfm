{
 "cells": [
  {
   "cell_type": "markdown",
   "metadata": {},
   "source": [
    "## Analysis of WebMGA results\n",
    "\n",
    "Sergio Álvarez-Pérez, 2020"
   ]
  },
  {
   "cell_type": "code",
   "execution_count": null,
   "metadata": {},
   "outputs": [],
   "source": [
    "import os\n",
    "import re\n",
    "import numpy as np\n",
    "import pandas as pd"
   ]
  },
  {
   "cell_type": "code",
   "execution_count": null,
   "metadata": {},
   "outputs": [],
   "source": [
    "if not os.path.exists('/home/sergio/TFM1/reports/'): # include here your preferred path\n",
    "    os.mkdir('/home/sergio/TFM1/reports/')\n",
    "\n",
    "if not os.path.exists('/home/sergio/TFM1/reports/webmga/'):\n",
    "    os.mkdir('/home/sergio/TFM1/reports/webmga/')"
   ]
  },
  {
   "cell_type": "markdown",
   "metadata": {},
   "source": [
    "### COG class annotations"
   ]
  },
  {
   "cell_type": "code",
   "execution_count": null,
   "metadata": {
    "scrolled": true
   },
   "outputs": [],
   "source": [
    "path = '/home/sergio/TFM1/webmga/' # path to the folder containing the outputs of WebMGA (http://weizhong-lab.ucsd.edu/webMGA/)\n",
    "\n",
    "classes_list = []\n",
    "genomes_list = []\n",
    "classes_per_genome = {}\n",
    "\n",
    "for foldername in os.listdir(path):\n",
    "    for filename in os.listdir(os.path.join(path,foldername,\"cog\")):\n",
    "        if re.match(\"cog-class.txt\", filename):\n",
    "            genome = foldername # Folder name should follow the pattern: genus_species_strain\n",
    "            genomes_list.append(genome)\n",
    "            cog_dict = {}\n",
    "            with open(os.path.join(path, foldername, \"cog\", filename)) as myFile:\n",
    "                next(myFile)\n",
    "                for line in myFile:\n",
    "                    cog_class, no_families, coverage, abundance, description = line.split('\\t')\n",
    "                    description = re.match('(.+) \\n', description).groups()[0]\n",
    "                    classes_list.append([cog_class, description])\n",
    "                    cog_dict[cog_class] = {'No. families':no_families, 'Coverage':coverage, 'Abundance':abundance}\n",
    "            classes_per_genome[genome] = cog_dict \n",
    "            myFile.close()\n",
    "\n",
    "df = pd.DataFrame(classes_list, columns = ('COG class','Description')).drop_duplicates().sort_values(by='COG class').set_index('COG class')\n",
    "\n",
    "for genome in genomes_list: # template table\n",
    "    df[genome] = np.nan"
   ]
  },
  {
   "cell_type": "code",
   "execution_count": null,
   "metadata": {
    "scrolled": true
   },
   "outputs": [],
   "source": [
    "# Report of the number of COG families per class annotation\n",
    "n_families = df.fillna('0')\n",
    "\n",
    "for key,value in classes_per_genome.items():\n",
    "    genome = key\n",
    "    for k,v in value.items():\n",
    "        n_families[genome][k] = np.int64(v['No. families'])\n",
    "\n",
    "n_families = n_families[sorted(n_families.columns)].sort_index()\n",
    "pd.DataFrame.to_csv(n_families, path_or_buf = '/home/sergio/TFM1/reports/webmga/cog_classes_nfamilies.tsv', sep = \"\\t\", index = True)\n",
    "n_families"
   ]
  },
  {
   "cell_type": "code",
   "execution_count": null,
   "metadata": {
    "scrolled": true
   },
   "outputs": [],
   "source": [
    "# Report of the coverage of each COG class annotation\n",
    "coverage = df.fillna('0')\n",
    "\n",
    "for key,value in classes_per_genome.items():\n",
    "    genome = key\n",
    "    for k,v in value.items():\n",
    "        coverage[genome][k] = np.round(np.float64(v['Coverage']),3)\n",
    "\n",
    "coverage = coverage[sorted(coverage.columns)].sort_index()        \n",
    "pd.DataFrame.to_csv(coverage, path_or_buf = '/home/sergio/TFM1/reports/webmga/cog_classes_coverage.tsv', sep = \"\\t\", index = True)\n",
    "coverage"
   ]
  },
  {
   "cell_type": "code",
   "execution_count": null,
   "metadata": {
    "scrolled": true
   },
   "outputs": [],
   "source": [
    "# Report of the abundance of each COG class annotation\n",
    "abundance = df\n",
    "\n",
    "for key,value in classes_per_genome.items():\n",
    "    genome = key\n",
    "    for k,v in value.items():\n",
    "        abundance[genome][k] = np.round(np.float64(v['Abundance']),4)\n",
    "\n",
    "abundance = abundance[sorted(abundance.columns)].sort_index()\n",
    "pd.DataFrame.to_csv(abundance, path_or_buf = '/home/sergio/TFM1/reports/webmga/cog_classes_abundance.tsv', sep = \"\\t\", index = True)\n",
    "abundance"
   ]
  },
  {
   "cell_type": "markdown",
   "metadata": {},
   "source": [
    "### COG family annotations"
   ]
  },
  {
   "cell_type": "code",
   "execution_count": null,
   "metadata": {},
   "outputs": [],
   "source": [
    "path = '/home/sergio/TFM1/webmga/' #  path to the folder containing the outputs of WebMGA\n",
    "\n",
    "families_list = []\n",
    "genomes_list2 = []\n",
    "families_per_genome = {}\n",
    "\n",
    "for foldername in os.listdir(path):\n",
    "    for filename in os.listdir(os.path.join(path,foldername,\"cog\")):\n",
    "        if re.match(\"cog.txt\", filename):\n",
    "            genome = foldername # Folder name should follow the pattern: genus_species_strain\n",
    "            genomes_list2.append(genome)\n",
    "            accession_dict = {}\n",
    "            with open(os.path.join(path, foldername, \"cog\", filename)) as myFile:\n",
    "                next(myFile)\n",
    "                for line in myFile:\n",
    "                    accession, name, no_orfs, coverage, abundance, description = line.split('\\t')\n",
    "                    description = re.match('(.+)\\n', description).groups()[0]\n",
    "                    families_list.append([accession, name, description])\n",
    "                    accession_dict[accession] = {'No. ORFs':no_orfs, 'Coverage':coverage, 'Abundance':abundance}\n",
    "            \n",
    "            families_per_genome[genome] = accession_dict\n",
    "            myFile.close()\n",
    "\n",
    "\n",
    "df2 = pd.DataFrame(families_list, columns = ('Accession','Name','Description')).drop_duplicates().sort_values(by='Accession').set_index('Accession')\n",
    "\n",
    "for genome in genomes_list2: # template table\n",
    "    df2[genome] = np.nan"
   ]
  },
  {
   "cell_type": "code",
   "execution_count": null,
   "metadata": {},
   "outputs": [],
   "source": [
    "# Report of the number of ORFs per COG family\n",
    "\n",
    "n_orfs = df2.fillna('0')\n",
    "\n",
    "for key,value in families_per_genome.items():\n",
    "    genome = key\n",
    "    for k,v in value.items():\n",
    "        n_orfs[genome][k] = np.int64(v['No. ORFs'])\n",
    "\n",
    "n_orfs = n_orfs[sorted(n_orfs.columns)].sort_index()\n",
    "pd.DataFrame.to_csv(n_orfs, path_or_buf = '/home/sergio/TFM1/reports/webmga/cog_families_norfs.tsv', sep = \"\\t\", index = True)\n",
    "n_orfs"
   ]
  },
  {
   "cell_type": "code",
   "execution_count": null,
   "metadata": {
    "scrolled": true
   },
   "outputs": [],
   "source": [
    "# Report of the coverage of each COG family\n",
    "\n",
    "coverage2 = df2.fillna('0')\n",
    "\n",
    "for key,value in families_per_genome.items():\n",
    "    genome = key\n",
    "    for k,v in value.items():\n",
    "        coverage2[genome][k] = np.round(np.float64(v['Coverage']),3)\n",
    "\n",
    "coverage2 = coverage2[sorted(coverage2.columns)].sort_index()\n",
    "pd.DataFrame.to_csv(coverage2, path_or_buf = '/home/sergio/TFM1/reports/webmga/cog_families_coverage.tsv', sep = \"\\t\", index = True)\n",
    "coverage2"
   ]
  },
  {
   "cell_type": "code",
   "execution_count": null,
   "metadata": {},
   "outputs": [],
   "source": [
    "# Report of the abundance of each COG family\n",
    "abundance2 = df2.fillna('0')\n",
    "\n",
    "for key,value in families_per_genome.items():\n",
    "    genome = key\n",
    "    for k,v in value.items():\n",
    "        abundance2[genome][k] = v['Abundance']\n",
    "\n",
    "abundance2 = abundance2[sorted(abundance2.columns)].sort_index()\n",
    "pd.DataFrame.to_csv(abundance2, path_or_buf = '/home/sergio/TFM1/reports/webmga/cog_families_abundance.tsv', sep = \"\\t\", index = True)\n",
    "abundance2"
   ]
  }
 ],
 "metadata": {
  "kernelspec": {
   "display_name": "Python 3",
   "language": "python",
   "name": "python3"
  },
  "language_info": {
   "codemirror_mode": {
    "name": "ipython",
    "version": 3
   },
   "file_extension": ".py",
   "mimetype": "text/x-python",
   "name": "python",
   "nbconvert_exporter": "python",
   "pygments_lexer": "ipython3",
   "version": "3.7.7"
  }
 },
 "nbformat": 4,
 "nbformat_minor": 2
}
