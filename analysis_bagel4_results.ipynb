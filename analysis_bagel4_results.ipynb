{
 "cells": [
  {
   "cell_type": "markdown",
   "metadata": {},
   "source": [
    "## Analysis of BAGEL4 results\n",
    "\n",
    "Sergio Álvarez-Pérez, 2020"
   ]
  },
  {
   "cell_type": "code",
   "execution_count": null,
   "metadata": {},
   "outputs": [],
   "source": [
    "import os\n",
    "import re\n",
    "import pandas as pd"
   ]
  },
  {
   "cell_type": "code",
   "execution_count": null,
   "metadata": {},
   "outputs": [],
   "source": [
    "if not os.path.exists('/home/sergio/TFM1/reports/'): # include here your preferred path\n",
    "    os.mkdir('/home/sergio/TFM1/reports/')\n",
    "\n",
    "if not os.path.exists('/home/sergio/TFM1/reports/bagel4/'):\n",
    "    os.mkdir('/home/sergio/TFM1/reports/bagel4/')"
   ]
  },
  {
   "cell_type": "code",
   "execution_count": null,
   "metadata": {},
   "outputs": [],
   "source": [
    "path = '/home/sergio/TFM1/BAGEL4/' # path to the folder containing the outputs of BAGEL4 (lists of Areas of Interest: AOIs)\n",
    "        \n",
    "column_names = ['AOI','region_name','region_size','orf','gene_name','gene_start','gene_end','gene_strand','real_start',\n",
    "                'real_end','real_strand','gene_color','function','motifs','annotation','protein','dna']\n",
    "\n",
    "df = pd.DataFrame(columns = column_names)\n",
    "\n",
    "for filename in os.listdir(path):\n",
    "    if re.match(\"(.+)\\.GeneTable\", filename):\n",
    "        aoi = re.match(\"(.+_.+_.+_.+)\\.GeneTable\", filename) # Filaname should follow the pattern: genus_species_strain_AOI\n",
    "        aoi = aoi.groups()[0]\n",
    "\n",
    "        new_df = pd.read_csv(os.path.join(path, filename),sep=\"\\t\")\n",
    "        new_df.insert(0,'AOI',aoi)\n",
    "        \n",
    "        df = pd.concat((df, new_df))\n",
    "\n",
    "df"
   ]
  },
  {
   "cell_type": "code",
   "execution_count": null,
   "metadata": {},
   "outputs": [],
   "source": [
    "# In BAGEL4 graphical outputs, functional classes are represented by different colors \n",
    "color_codes = df['gene_color'].nunique()\n",
    "colors = {'green':'core peptide','#8fbcb9':'other','#d5dce8':'no function determined','#ff3f3f':'immunity/transport','#6ba3ff':'modification','#70c947':'core peptide'}\n",
    "colors"
   ]
  },
  {
   "cell_type": "code",
   "execution_count": null,
   "metadata": {},
   "outputs": [],
   "source": [
    "target_columns = ['AOI','orf','real_start','real_end','real_strand','gene_color','function','annotation','protein','dna']\n",
    "df2 = df.filter(items=target_columns)\n",
    "df2 = df2.rename(columns={'orf':'ORF','real_start':'start','real_end':'end','real_strand':'strand','gene_color':'functional class','dna':'DNA'})\n",
    "df2"
   ]
  },
  {
   "cell_type": "code",
   "execution_count": null,
   "metadata": {},
   "outputs": [],
   "source": [
    "# To generate the list of ORFs found in all AOIs of all Rosenbergiella genomes\n",
    "df2 = df2.replace({'functional class': colors})\n",
    "pd.DataFrame.to_csv(df2, path_or_buf = '/home/sergio/TFM1/reports/bagel4/AOIs_per_genome.tsv', sep = \"\\t\", index = True)\n",
    "df2"
   ]
  }
 ],
 "metadata": {
  "kernelspec": {
   "display_name": "Python 3",
   "language": "python",
   "name": "python3"
  },
  "language_info": {
   "codemirror_mode": {
    "name": "ipython",
    "version": 3
   },
   "file_extension": ".py",
   "mimetype": "text/x-python",
   "name": "python",
   "nbconvert_exporter": "python",
   "pygments_lexer": "ipython3",
   "version": "3.7.7"
  }
 },
 "nbformat": 4,
 "nbformat_minor": 2
}
