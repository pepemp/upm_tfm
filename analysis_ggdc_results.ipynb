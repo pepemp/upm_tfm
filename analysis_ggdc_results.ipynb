{
 "cells": [
  {
   "cell_type": "markdown",
   "metadata": {},
   "source": [
    "## Analysis of GGDC results: generation of an *is*DDH heatmap for *Rosenbergiella* spp.\n",
    "\n",
    "Sergio Álvarez-Pérez, 2020"
   ]
  },
  {
   "cell_type": "code",
   "execution_count": null,
   "metadata": {},
   "outputs": [],
   "source": [
    "import os\n",
    "import re\n",
    "import matplotlib.pyplot as plt\n",
    "import pandas as pd\n",
    "import numpy as np\n",
    "import seaborn as sns"
   ]
  },
  {
   "cell_type": "code",
   "execution_count": null,
   "metadata": {},
   "outputs": [],
   "source": [
    "if not os.path.exists('/home/sergio/TFM1/reports/'): # include here your preferred path\n",
    "    os.mkdir('/home/sergio/TFM1/reports/')\n",
    "if not os.path.exists('/home/sergio/TFM1/reports/ggdc/'):\n",
    "    os.mkdir('/home/sergio/TFM1/reports/ggdc/')"
   ]
  },
  {
   "cell_type": "code",
   "execution_count": null,
   "metadata": {
    "scrolled": true
   },
   "outputs": [],
   "source": [
    "# Generation of a data frame from the isDDH results\n",
    "\n",
    "path = '/home/sergio/TFM1/GGDC/' # path with the outputs of the Genome-to-Genome Distance Calculator (GGDC)\n",
    "\n",
    "column_names = ['Index','Query genome','Reference genome',\n",
    "                'DDH 1','Model C.I. 1','Distance 1','Prob. DDH >= 70% 1',\n",
    "                'DDH 2','Model C.I. 2','Distance 2','Prob. DDH >= 70% 2',\n",
    "                'DDH 3','Model C.I. 3','Distance 3','Prob. DDH >= 70% 3','G+C difference']\n",
    "\n",
    "mydict = {}\n",
    "genome_names = []\n",
    "\n",
    "n = 0       \n",
    "for filename in os.listdir(path):\n",
    "    if re.match(\"(.+).csv\", filename):\n",
    "        with open(os.path.join(path,filename)) as myFile:\n",
    "            for num, line in enumerate(myFile, 1):\n",
    "                if num > 2:\n",
    "                    n +=1\n",
    "                    query_genome,ref_genome,DDH1,CI1,Dist1,ProbDDH1,DDH2,CI2,Dist2,ProbDDH2,DDH3,CI3,Dist3,ProbDDH3,GC_difference = line.split(',')\n",
    "                    query_genome = re.match('(.+).fa',query_genome).groups()[0]\n",
    "                    ref_genome = re.match('(.+).fa',ref_genome).groups()[0]\n",
    "                    GC_difference = re.match('(.+)\\n',GC_difference).groups()[0]\n",
    "                    newdict = {'Query genome':query_genome,'Reference genome':ref_genome,\n",
    "                        'DDH 1':DDH1,'Model C.I. 1':CI1,'Distance 1':Dist1,'Prob. DDH >= 70% 1':ProbDDH1,\n",
    "                        'DDH 2':DDH2,'Model C.I. 2':CI2,'Distance 2':Dist2,'Prob. DDH >= 70% 2':ProbDDH2,\n",
    "                        'DDH 3':DDH3,'Model C.I. 3':CI3,'Distance 3':Dist3,'Prob. DDH >= 70% 3':ProbDDH3,\n",
    "                        'G+C difference':GC_difference}\n",
    "                    mydict[n]=newdict\n",
    "                    genome_names.append(query_genome)\n",
    "        myFile.close()\n",
    "\n",
    "genome_names = list(set(genome_names))\n",
    "df = pd.DataFrame.from_dict(mydict).T\n",
    "df"
   ]
  },
  {
   "cell_type": "code",
   "execution_count": null,
   "metadata": {
    "scrolled": true
   },
   "outputs": [],
   "source": [
    "# To keep only the results obtained with the second formula (which is the recommended one: http://ggdc.dsmz.de/faq.php#qggdc15)\n",
    "target_columns = ['Query genome','Reference genome','DDH 2']\n",
    "df2 = df.filter(items=target_columns)\n",
    "df2"
   ]
  },
  {
   "cell_type": "code",
   "execution_count": null,
   "metadata": {},
   "outputs": [],
   "source": [
    "isDDH = pd.DataFrame(columns = genome_names, index = genome_names)\n",
    "newlist = df2.to_numpy().tolist()\n",
    "for element in newlist:\n",
    "    isDDH[element[0]][element[1]] = np.float64(element[2])\n",
    "for i in isDDH.index:\n",
    "    isDDH.loc[i, i] = np.int64(100)\n",
    "\n",
    "# To modify one of the genome names (to make it shorter) and reorder columns and rows by alphabetical order\n",
    "isDDH = isDDH.rename(columns={'Rosenbergiella_nectarea_IMG-taxon_2651870171_annotated_assembly': 'Rosenbergiella_nectarea_8N4'},\n",
    "               index={'Rosenbergiella_nectarea_IMG-taxon_2651870171_annotated_assembly': 'Rosenbergiella_nectarea_8N4'})\n",
    "isDDH.columns = isDDH.columns.str.replace('_', ' ')\n",
    "isDDH.index = isDDH.index.str.replace('_', ' ')\n",
    "\n",
    "# To export the isDDH matrix as a .tsv file\n",
    "isDDH = isDDH[sorted(isDDH.columns)].sort_index()\n",
    "pd.DataFrame.to_csv(isDDH, path_or_buf = '/home/sergio/TFM1/reports/ggdc/isDDH.tsv', sep = \"\\t\", index = True)\n",
    "isDDH"
   ]
  },
  {
   "cell_type": "code",
   "execution_count": null,
   "metadata": {},
   "outputs": [],
   "source": [
    "# Definition of a mask to display numerical values only in the upper triangle\n",
    "mask = np.triu(isDDH)\n",
    "mask = mask.astype(\"U\")\n",
    "mask[mask=='0']=['']"
   ]
  },
  {
   "cell_type": "code",
   "execution_count": null,
   "metadata": {},
   "outputs": [],
   "source": [
    "# To generate the isDDH heatmap\n",
    "df3 = pd.read_csv('/home/sergio/TFM1/reports/ggdc/isDDH.tsv', sep='\\t', index_col=0)\n",
    "fig, ax = plt.subplots(figsize=(6, 6))\n",
    "g=sns.heatmap(df3, cmap=\"YlGnBu\", annot=mask, fmt=\"s\", square=True, cbar_kws={\"label\":\"% DDH\", \"location\":\"top\", \"use_gridspec\":False, \"shrink\":0.75}, ax=ax)\n",
    "g.set_xticklabels(g.get_xticklabels(), rotation=45, horizontalalignment='right')\n",
    "fig.savefig('/home/sergio/TFM1/reports/ggdc/isDDH_heatmap.pdf', bbox_inches='tight')"
   ]
  }
 ],
 "metadata": {
  "kernelspec": {
   "display_name": "Python 3",
   "language": "python",
   "name": "python3"
  },
  "language_info": {
   "codemirror_mode": {
    "name": "ipython",
    "version": 3
   },
   "file_extension": ".py",
   "mimetype": "text/x-python",
   "name": "python",
   "nbconvert_exporter": "python",
   "pygments_lexer": "ipython3",
   "version": "3.7.7"
  }
 },
 "nbformat": 4,
 "nbformat_minor": 2
}
