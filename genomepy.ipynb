{
 "cells": [
  {
   "cell_type": "markdown",
   "metadata": {},
   "source": [
    "## Downloading of genome assemblies from NCBI using genomepy\n",
    "\n",
    "Sergio Álvarez-Pérez, 2020"
   ]
  },
  {
   "cell_type": "code",
   "execution_count": null,
   "metadata": {},
   "outputs": [],
   "source": [
    "import os\n",
    "import genomepy"
   ]
  },
  {
   "cell_type": "code",
   "execution_count": null,
   "metadata": {},
   "outputs": [],
   "source": [
    "if not os.path.exists('/home/sergio/TFM1/'): # include here your preferred path\n",
    "    os.mkdir('/home/sergio/TFM1/')"
   ]
  },
  {
   "cell_type": "code",
   "execution_count": null,
   "metadata": {
    "scrolled": true
   },
   "outputs": [],
   "source": [
    "genomes = []\n",
    "with open('/home/sergio/TFM1/Genomes_list_2.csv') as f: # download this .csv file from GitHub to your preferred path\n",
    "    next(f)\n",
    "    for line in f:\n",
    "        line = line.split(\",\")\n",
    "        genomes.append(line)\n",
    "\n",
    "f.close()\n",
    "\n",
    "print(genomes)"
   ]
  },
  {
   "cell_type": "code",
   "execution_count": null,
   "metadata": {
    "scrolled": true
   },
   "outputs": [],
   "source": [
    "genomes_folder = '/home/sergio/TFM1/ncbi_genomes/' # path to the folder where you want to store the downloaded genomes\n",
    "n = 0\n",
    "for genome in genomes:\n",
    "    n = n + 1\n",
    "    genus = genome[0]\n",
    "    species = genome[1]\n",
    "    identifier = genome[2]\n",
    "    source = genome[3].strip('\\n')\n",
    "    print (\">>>>>> Downloading genome nº \" + str(n) + \" !! >>>>>> \", genus, species, identifier, source)\n",
    "    genomepy.install_genome(identifier, source, genome_dir=genomes_folder, localname=(genus + \"_\" + species + \"_\" + identifier))"
   ]
  }
 ],
 "metadata": {
  "kernelspec": {
   "display_name": "Python 3",
   "language": "python",
   "name": "python3"
  },
  "language_info": {
   "codemirror_mode": {
    "name": "ipython",
    "version": 3
   },
   "file_extension": ".py",
   "mimetype": "text/x-python",
   "name": "python",
   "nbconvert_exporter": "python",
   "pygments_lexer": "ipython3",
   "version": "3.7.7"
  }
 },
 "nbformat": 4,
 "nbformat_minor": 2
}
